{
 "cells": [
  {
   "cell_type": "markdown",
   "id": "c96d46c1",
   "metadata": {},
   "source": [
    "##### case example with Temperatures"
   ]
  },
  {
   "cell_type": "code",
   "execution_count": null,
   "id": "a2e46f0d",
   "metadata": {},
   "outputs": [],
   "source": [
    "#plotting temperatures over time to determine their uniformity\n",
    "\n",
    "import matplotlib.pyplot as plt\n",
    "\n",
    "plt.scatter(x = 'date_column', y='temp_col', data = df)\n",
    "\n",
    "plt.title('Title')\n",
    "plt.xlabel(\"Dates\")\n",
    "plt.ylabel(\"Temperatures\")\n",
    "\n",
    "plt.show()"
   ]
  },
  {
   "cell_type": "code",
   "execution_count": null,
   "id": "1cd6af81",
   "metadata": {},
   "outputs": [],
   "source": [
    "#converting temperature from F to C\n",
    "temp_F = df.loc[df['temp_col'] > 40, 'temp_col'] #choosing 40 as arbitratry threshold\n",
    "\n",
    "#convert to Celcius\n",
    "temp_C = (temp_F - 32) * (5/9)\n",
    "\n",
    "#resetting the threshold now with Celcius\n",
    "temp_C = df.loc[df['temp_col'] > 40, 'temp_col']\n",
    "\n",
    "#check conversion is correct\n",
    "assert df['temp_col'].max() < 40"
   ]
  },
  {
   "cell_type": "markdown",
   "id": "d7cb1e67",
   "metadata": {},
   "source": [
    "##### case example with Date data"
   ]
  },
  {
   "cell_type": "markdown",
   "id": "d03caf29",
   "metadata": {},
   "source": [
    "pd.to_datetime()\n",
    "- recognizes most formats \n",
    "- in some cases it may fail, and give erroneous or unrecognizable formats"
   ]
  },
  {
   "cell_type": "code",
   "execution_count": null,
   "id": "c1c1dfd0",
   "metadata": {},
   "outputs": [],
   "source": [
    "#converting to datetime eliminates inconsistencies with date formats\n",
    "\n",
    "df['date_col'] = pd.to_datetime(df['date_col'])\n",
    "\n",
    "#if errors occur:\n",
    "\n",
    "df['date_col'] = pd.to_datetime(df['date_col'],\n",
    "                               infer_datetime_format=True,  #attempts to infer format of each date\n",
    "                               errors = 'coerce'  #returns NA for rows where it fails to convert\n",
    "                               )\n",
    "\n",
    "## Get year of value of a column\n",
    "df['column_year'] = df['date_column'].dt.strftime('%Y')"
   ]
  },
  {
   "cell_type": "markdown",
   "id": "4d181a57",
   "metadata": {},
   "source": [
    "- when encountering ambiguity in dates (such as whether we might know exactly if it's month or day) we might want to treat these in a way that makes the most sense OR convert to NA\n",
    "    - this is why it's important to know where your data comes from"
   ]
  },
  {
   "cell_type": "markdown",
   "id": "c910612f",
   "metadata": {},
   "source": [
    "##### dealing with dollars"
   ]
  },
  {
   "cell_type": "code",
   "execution_count": null,
   "id": "c8e22da6",
   "metadata": {},
   "outputs": [],
   "source": [
    "# Find values of col that are equal to 'euro'\n",
    "col_value_euro = df['col'] == 'euro'\n",
    "\n",
    "# Convert col_amt where it is in euro to dollars\n",
    "df.loc[col_value_euro, 'col_amt'] = df.loc[col_value_euro, 'col_amt'] * 1.1 \n",
    "\n",
    "# Unify col_amt column by changing 'euro' values to 'dollar'\n",
    "df.loc[col_value_euro, 'col_amt'] = 'dollar'\n",
    "\n",
    "# Assert that only dollar currency remains\n",
    "assert df['col_amt'].unique() == 'dollar'"
   ]
  }
 ],
 "metadata": {
  "kernelspec": {
   "display_name": "Python 3 (ipykernel)",
   "language": "python",
   "name": "python3"
  },
  "language_info": {
   "codemirror_mode": {
    "name": "ipython",
    "version": 3
   },
   "file_extension": ".py",
   "mimetype": "text/x-python",
   "name": "python",
   "nbconvert_exporter": "python",
   "pygments_lexer": "ipython3",
   "version": "3.9.7"
  }
 },
 "nbformat": 4,
 "nbformat_minor": 5
}
