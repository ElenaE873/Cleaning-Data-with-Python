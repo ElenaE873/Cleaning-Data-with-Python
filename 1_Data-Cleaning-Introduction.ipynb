{
 "cells": [
  {
   "cell_type": "markdown",
   "id": "2f941c35",
   "metadata": {},
   "source": [
    "\"Dirty Data\" can appear as a result of:\n",
    "- Duplicate values\n",
    "- Parsing errors\n",
    "- Legacy systems"
   ]
  },
  {
   "cell_type": "markdown",
   "id": "9001a101",
   "metadata": {},
   "source": [
    "\"Garbage in, Garbage out.\""
   ]
  },
  {
   "cell_type": "markdown",
   "id": "97ab1f7e",
   "metadata": {},
   "source": [
    "##### Ensuring the right Data Types"
   ]
  },
  {
   "cell_type": "code",
   "execution_count": null,
   "id": "f96b97c4",
   "metadata": {},
   "outputs": [],
   "source": [
    "#checking for data types of each column in dataframe\n",
    "df.dtypes"
   ]
  },
  {
   "cell_type": "code",
   "execution_count": null,
   "id": "e46ec643",
   "metadata": {},
   "outputs": [],
   "source": [
    "#checking for missing values in a dataframe\n",
    "df.info()"
   ]
  },
  {
   "cell_type": "markdown",
   "id": "aa2d9857",
   "metadata": {},
   "source": [
    "- Sometimes you may need to first strip (break down a column) by an identifier and then convert"
   ]
  },
  {
   "cell_type": "markdown",
   "id": "beac6ae2",
   "metadata": {},
   "source": [
    "##### converting from string to integer"
   ]
  },
  {
   "cell_type": "code",
   "execution_count": null,
   "id": "d21e611f",
   "metadata": {},
   "outputs": [],
   "source": [
    "#stripping the column by an identifier\n",
    "df['column'] = df['column'].str.strip('identifier')\n",
    "\n",
    "#changing from string to integer\n",
    "df['column'] = df['column'].astype('int')"
   ]
  },
  {
   "cell_type": "markdown",
   "id": "80eacf90",
   "metadata": {},
   "source": [
    "##### assert statement"
   ]
  },
  {
   "cell_type": "code",
   "execution_count": null,
   "id": "f295466a",
   "metadata": {},
   "outputs": [],
   "source": [
    "assert df['column'].dtype == 'int'"
   ]
  },
  {
   "cell_type": "markdown",
   "id": "83df6fcd",
   "metadata": {},
   "source": [
    "##### converting numerical to categorical"
   ]
  },
  {
   "cell_type": "code",
   "execution_count": null,
   "id": "2da35ad0",
   "metadata": {},
   "outputs": [],
   "source": [
    "df[\"column_name\"] = df[\"column_name\"].astype('category')\n",
    "\n",
    "#using the describe method to verify correct transformation\n",
    "df.describe()"
   ]
  },
  {
   "cell_type": "code",
   "execution_count": null,
   "id": "33d7a59e",
   "metadata": {},
   "outputs": [],
   "source": [
    "# Strip duration of minutes\n",
    "ride_sharing['duration_trim'] = ride_sharing['duration'].str.strip('minutes') \n",
    "\n",
    "# Convert duration to integer\n",
    "ride_sharing['duration_time'] = ride_sharing['duration_trim'].astype('int')\n",
    "\n",
    "# Write an assert statement making sure of conversion\n",
    "assert ride_sharing['duration_time'].dtype == 'int'\n",
    "\n",
    "# Print formed columns and calculate average ride duration \n",
    "print(ride_sharing[['duration','duration_trim','duration_time']])\n",
    "print(ride_sharing['duration_time'].mean())"
   ]
  },
  {
   "cell_type": "markdown",
   "id": "4db19701",
   "metadata": {},
   "source": [
    "##### dealing with out of range datta"
   ]
  },
  {
   "cell_type": "markdown",
   "id": "35117946",
   "metadata": {},
   "source": [
    "- dropping data\n",
    "- setting custom minimums and maximums\n",
    "- treaing as missing and imputing"
   ]
  },
  {
   "cell_type": "code",
   "execution_count": null,
   "id": "fead4073",
   "metadata": {},
   "outputs": [],
   "source": [
    "#setting condition to drop by\n",
    "condition = df['column'] <= value\n",
    "\n",
    "#dropping values based on condition\n",
    "df.drop(df[condition].index, inplace = True)\n",
    "\n",
    "#inplace=True are dropped and a new column doesn't need to be created\n",
    "\n",
    "#my personal preference in doing this, rather than in one liner\n",
    "\n",
    "#checking for change\n",
    "assert df['column'].max() <= value"
   ]
  },
  {
   "cell_type": "markdown",
   "id": "52aecb3f",
   "metadata": {},
   "source": [
    "##### converting a value in a column beyond a threshold to a specific value"
   ]
  },
  {
   "cell_type": "code",
   "execution_count": null,
   "id": "dc15e403",
   "metadata": {},
   "outputs": [],
   "source": [
    "#again setting the condition\n",
    "condition = df['column'] <= value\n",
    "\n",
    "df.loc[condition, 'column'] = value2\n",
    "#here for anywhere the condition applies to the column, set to value2\n",
    "\n",
    "#check for the change\n",
    "assert df['column'].max() <= value2"
   ]
  },
  {
   "cell_type": "markdown",
   "id": "ccac3a4e",
   "metadata": {},
   "source": [
    "##### converting to datetime column"
   ]
  },
  {
   "cell_type": "code",
   "execution_count": null,
   "id": "f8fd9135",
   "metadata": {},
   "outputs": [],
   "source": [
    "import datetime as dt\n",
    "import pandas as pd\n",
    "\n",
    "#check initial data types\n",
    "df.dtypes\n",
    "\n",
    "#convert to datetime\n",
    "df['date_column'] = pd.to_datetime(df['date_column'])\n",
    "\n",
    "#check for the change\n",
    "assert df['date_column'].dtype == 'datetime64[ns]'"
   ]
  },
  {
   "cell_type": "code",
   "execution_count": null,
   "id": "1e6c2204",
   "metadata": {},
   "outputs": [],
   "source": [
    "#saving today's date\n",
    "today_date = dt.date.today()\n",
    "\n",
    "#setting any future dates to today's date\n",
    "df.loc[df['date_column'] > today_date, 'date_column'] = today_date"
   ]
  },
  {
   "cell_type": "markdown",
   "id": "40464143",
   "metadata": {},
   "source": [
    "##### duplicate values"
   ]
  },
  {
   "cell_type": "markdown",
   "id": "3c6947bb",
   "metadata": {},
   "source": [
    "- occur when we have the same exact information repeated across multiple rows, for a, some, or all columns in the DataFrame"
   ]
  },
  {
   "cell_type": "code",
   "execution_count": null,
   "id": "25c6fb72",
   "metadata": {},
   "outputs": [],
   "source": [
    "#getting the duplicate rows\n",
    "duplicates = df.duplicated()\n",
    "df[duplicates]"
   ]
  },
  {
   "cell_type": "code",
   "execution_count": null,
   "id": "f5d9c45d",
   "metadata": {},
   "outputs": [],
   "source": [
    "#specific columns to check for duplicates\n",
    "column_names = ['column1', 'column2', 'column3']\n",
    "duplicates = df.duplicated(subset = column_names, keep = False)\n",
    "\n",
    "#getting a view of the duplicates by sorting the first column\n",
    "df[duplicates].sort_values(by = 'column1')\n",
    "\n",
    "#this way you can view complete and incomplete duplicates across the entire set of data"
   ]
  },
  {
   "cell_type": "code",
   "execution_count": null,
   "id": "0d8f8497",
   "metadata": {},
   "outputs": [],
   "source": [
    "#dropping duplicates\n",
    "df.drop_duplicates(inplace = True)\n",
    "\n",
    "#inplace=True here means that you drop duplicate rows directly inside the DataFrame \n",
    "#without creating a new object (just like above in a similar scenario)"
   ]
  },
  {
   "cell_type": "code",
   "execution_count": null,
   "id": "743000ef",
   "metadata": {},
   "outputs": [],
   "source": [
    "#merging two incomplete duplicates by taking the average of the column that differs\n",
    "#this can be done by using both \".groupby()\" and \".agg()\" methods -- How FUN!\n",
    "\n",
    "column_names = ['column1', 'column2', 'column3']\n",
    "summaries = {\n",
    "    'column4':'agg_max'\n",
    "    'column5':'agg_mean'\n",
    "}\n",
    "\n",
    "#running the methods\n",
    "df = df.groupby(by = column_names).agg(summaries).reset_index()\n",
    "\n",
    "#checking for the duplicate rows again\n",
    "duplicates = df.duplicated(subset = column_names, keep=False)\n",
    "df[duplicates].sort_values(by = 'column1')"
   ]
  }
 ],
 "metadata": {
  "kernelspec": {
   "display_name": "Python 3 (ipykernel)",
   "language": "python",
   "name": "python3"
  },
  "language_info": {
   "codemirror_mode": {
    "name": "ipython",
    "version": 3
   },
   "file_extension": ".py",
   "mimetype": "text/x-python",
   "name": "python",
   "nbconvert_exporter": "python",
   "pygments_lexer": "ipython3",
   "version": "3.9.7"
  }
 },
 "nbformat": 4,
 "nbformat_minor": 5
}
