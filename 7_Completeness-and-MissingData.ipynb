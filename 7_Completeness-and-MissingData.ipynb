{
 "cells": [
  {
   "cell_type": "code",
   "execution_count": null,
   "id": "ffa880e6",
   "metadata": {},
   "outputs": [],
   "source": [
    "#getting summering of \"missingness\" per columns\n",
    "df.isna().sum()"
   ]
  },
  {
   "cell_type": "markdown",
   "id": "d382bd18",
   "metadata": {},
   "source": [
    "##### missingno packages"
   ]
  },
  {
   "cell_type": "markdown",
   "id": "d0b62419",
   "metadata": {},
   "source": [
    "- useful package for visualization and understanding of missing data"
   ]
  },
  {
   "cell_type": "code",
   "execution_count": null,
   "id": "9f67616a",
   "metadata": {},
   "outputs": [],
   "source": [
    "import missingno as msno\n",
    "import matplotlib.pyplot as plt\n",
    "\n",
    "\n",
    "#visualizing missingness of data\n",
    "msno.matrix(df)\n",
    "plt.show()"
   ]
  },
  {
   "cell_type": "code",
   "execution_count": null,
   "id": "2d4975c6",
   "metadata": {},
   "outputs": [],
   "source": [
    "#isolate rows of missing and complete values aside\n",
    "missing = df[df['column'].isna()]\n",
    "complete = df[~df['column'].isna()]\n",
    "\n",
    "#then use the describe method on each of the subsets\n",
    "missing.describe()\n",
    "complete.describe()"
   ]
  },
  {
   "cell_type": "code",
   "execution_count": null,
   "id": "bc531ed2",
   "metadata": {},
   "outputs": [],
   "source": [
    "sorted_df = df.sort_values(by = 'column')\n",
    "\n",
    "msno.matrix(sorted_df)\n",
    "plt.show()"
   ]
  },
  {
   "cell_type": "markdown",
   "id": "f6a0fe56",
   "metadata": {},
   "source": [
    "Different types of missing data:\n",
    "- missing completely at random\n",
    "    - no systematic relationship between missing data and other values\n",
    "    - could be as a result of 'data entry errors'? when inputting data\n",
    "- missing at random to some extent\n",
    "    - there might be some systematic reason between missing data and other observed values\n",
    "- missing for not a random reason (but possibly an expected reason?)\n",
    "    - systematic relationship between missing data and possibly unobserved data"
   ]
  },
  {
   "cell_type": "markdown",
   "id": "5cb9e1c0",
   "metadata": {},
   "source": [
    "##### dropping by subset"
   ]
  },
  {
   "cell_type": "code",
   "execution_count": null,
   "id": "91eeb0fa",
   "metadata": {},
   "outputs": [],
   "source": [
    "#dropping by a specific column's missing values\n",
    "df_dropped = df.dropna(subset = ['column'])"
   ]
  },
  {
   "cell_type": "markdown",
   "id": "76683638",
   "metadata": {},
   "source": [
    "##### filling by the average or mean of a column"
   ]
  },
  {
   "cell_type": "code",
   "execution_count": null,
   "id": "946dd1be",
   "metadata": {},
   "outputs": [],
   "source": [
    "col_mean = df['col'].mean()\n",
    "df_imputed = df.fillna({\n",
    "    'col':col_mean\n",
    "})"
   ]
  }
 ],
 "metadata": {
  "kernelspec": {
   "display_name": "Python 3 (ipykernel)",
   "language": "python",
   "name": "python3"
  },
  "language_info": {
   "codemirror_mode": {
    "name": "ipython",
    "version": 3
   },
   "file_extension": ".py",
   "mimetype": "text/x-python",
   "name": "python",
   "nbconvert_exporter": "python",
   "pygments_lexer": "ipython3",
   "version": "3.9.7"
  }
 },
 "nbformat": 4,
 "nbformat_minor": 5
}
