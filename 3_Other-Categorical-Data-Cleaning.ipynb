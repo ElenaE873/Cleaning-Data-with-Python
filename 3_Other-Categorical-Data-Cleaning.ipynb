{
 "cells": [
  {
   "cell_type": "code",
   "execution_count": null,
   "id": "c81e8f4c",
   "metadata": {},
   "outputs": [],
   "source": [
    "#printing unique values in different columns\n",
    "print('Column_1: ', airlines['Column_1'].unique(), \"\\n\")\n",
    "print('Column_2: ', airlines['Column_2'].unique(), \"\\n\")\n",
    "print('Column_3: ', airlines['Column_3'].unique(),\"\\n\")"
   ]
  },
  {
   "cell_type": "markdown",
   "id": "6cb7acf5",
   "metadata": {},
   "source": [
    "Things we might need to handle with categorical data\n",
    "- value inconsistency\n",
    "- collapsing too many categories to few\n",
    "- making sure data is of type \"category\"\n",
    "- leading and trailing spaces\n",
    "- creating categories out of data"
   ]
  },
  {
   "cell_type": "markdown",
   "id": "59be9f9d",
   "metadata": {},
   "source": [
    "##### value inconsistency : capitalization"
   ]
  },
  {
   "cell_type": "code",
   "execution_count": null,
   "id": "b96d637c",
   "metadata": {},
   "outputs": [],
   "source": [
    "#getting the value counts of different categories in a column\n",
    "df_column = df['column']\n",
    "df_column.value_counts()\n",
    "\n",
    "#getting results using groupby and counts\n",
    "df_column.groupby('column').count()"
   ]
  },
  {
   "cell_type": "markdown",
   "id": "ba4120f5",
   "metadata": {},
   "source": [
    "##### removing leading or trailing spaces"
   ]
  },
  {
   "cell_type": "code",
   "execution_count": null,
   "id": "ecb9d1c1",
   "metadata": {},
   "outputs": [],
   "source": [
    "df_new = df['column'].str.strip()\n",
    "\n",
    "df_new['column'].value_counts()"
   ]
  },
  {
   "cell_type": "markdown",
   "id": "4c45f6fd",
   "metadata": {},
   "source": [
    "##### creating categories out of data"
   ]
  },
  {
   "cell_type": "code",
   "execution_count": null,
   "id": "c27160ec",
   "metadata": {},
   "outputs": [],
   "source": [
    "#this can be done in two ways:\n",
    "#1 - using qcut()\n",
    "#automatically divides the data based on the distribution in the group_names\n",
    "import pandas as pd\n",
    "group_names = ['group1', 'group2', 'group3']\n",
    "df['column'] = pd.qcut(df['column2'], q=3, labels=group_names)\n",
    "\n",
    "#2 - using the cut() function\n",
    "#this indicates the ranges, and sometimes more accurate\n",
    "ranges = [1, 200, 500, np.inf] #as a example\n",
    "group_names = ['group1', 'group2', 'group3']\n",
    "\n",
    "df['column'] = pd.cut(df['column2'], bins=ranges, labels=group_names)"
   ]
  },
  {
   "cell_type": "markdown",
   "id": "e876e39d",
   "metadata": {},
   "source": [
    "##### reduce the number of categories by mapping to fewer ones"
   ]
  },
  {
   "cell_type": "code",
   "execution_count": null,
   "id": "1a408414",
   "metadata": {},
   "outputs": [],
   "source": [
    "#using the replace method\n",
    "mapping = {\n",
    "    'Value1':'Category1',\n",
    "    'Value2':'Category2',\n",
    "    'Value3':'Category2',\n",
    "    'Value4':'Category3'\n",
    "    #this indicates how each existing category value should be mapped to the new category\n",
    "}\n",
    "\n",
    "df['column'] = df['column'].replace(mapping)\n",
    "\n",
    "#checking for the new unique values\n",
    "df['columm'].unique()"
   ]
  },
  {
   "cell_type": "markdown",
   "id": "29de0eb1",
   "metadata": {},
   "source": [
    "##### Other"
   ]
  },
  {
   "cell_type": "code",
   "execution_count": null,
   "id": "8337abe7",
   "metadata": {},
   "outputs": [],
   "source": [
    "# change a column to lower-case\n",
    "df['column'] = df['column'].str.lower() \n",
    "\n",
    "#and then replace \"value1\" to \"value2\" in a column for a category type\n",
    "df['column'] = df['column'].replace({'value1':'value2'})\n",
    "\n",
    "# Remove white spaces from `column`\n",
    "df['column'] = df['column'].str.strip()"
   ]
  }
 ],
 "metadata": {
  "kernelspec": {
   "display_name": "Python 3 (ipykernel)",
   "language": "python",
   "name": "python3"
  },
  "language_info": {
   "codemirror_mode": {
    "name": "ipython",
    "version": 3
   },
   "file_extension": ".py",
   "mimetype": "text/x-python",
   "name": "python",
   "nbconvert_exporter": "python",
   "pygments_lexer": "ipython3",
   "version": "3.9.7"
  }
 },
 "nbformat": 4,
 "nbformat_minor": 5
}
