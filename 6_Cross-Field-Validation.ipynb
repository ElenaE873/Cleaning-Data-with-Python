{
 "cells": [
  {
   "cell_type": "markdown",
   "id": "4e4d2ed2",
   "metadata": {},
   "source": [
    "- using multiple fields in the dataset to check the integrity of the data quality"
   ]
  },
  {
   "cell_type": "code",
   "execution_count": null,
   "id": "59e6d484",
   "metadata": {},
   "outputs": [],
   "source": [
    "#summing values across several columns\n",
    "df_sum_classes = df[['column1','column2','column3']].sum(axis=1)\n",
    "\n",
    "df_equal = df_sum_classes == df['new_total_column']\n",
    "\n",
    "#filter out rows with inconsistent passenger totals\n",
    "inconsistent_df = df[~df_equal]\n",
    "\n",
    "consistent_df = df[df_equal]"
   ]
  },
  {
   "cell_type": "markdown",
   "id": "a1463f94",
   "metadata": {},
   "source": [
    "##### this can also be done for age and birthdays"
   ]
  },
  {
   "cell_type": "code",
   "execution_count": null,
   "id": "40d6e86b",
   "metadata": {},
   "outputs": [],
   "source": [
    "import pandas as pd\n",
    "import datetime as dt\n",
    "\n",
    "#converting birthday column to datetime\n",
    "df['birthday_col'] = pd.to_datetime(df['birthday_col'])\n",
    "\n",
    "#storing today's date in a today object\n",
    "today = dt.date.today()\n",
    "\n",
    "#for each row of the birthday calculate the difference in years\n",
    "age_diff = today.year - df['birthday_col'].dt.year\n",
    "\n",
    "#then find instances of where the ages match\n",
    "age_equal = age_diff == df['age_col']\n",
    "\n",
    "#filter out where we have inconsistencies\n",
    "inconsistent_age = df[~age_equal]\n",
    "\n",
    "#consistent\n",
    "consistent_age = df[age_equal]"
   ]
  },
  {
   "cell_type": "markdown",
   "id": "f3b636e0",
   "metadata": {},
   "source": [
    "What to do with inconsistencies?\n",
    "- drop data?\n",
    "- set it to missing? (NaN, or zeros)\n",
    "- impute the values more closely\n",
    "- apply rules from domain knowledge?"
   ]
  },
  {
   "cell_type": "markdown",
   "id": "6486ffc3",
   "metadata": {},
   "source": [
    "These actions all depend on the understanding of where the data comes from and the multiple source inputs and how the data is being fed into this dataset."
   ]
  }
 ],
 "metadata": {
  "kernelspec": {
   "display_name": "Python 3 (ipykernel)",
   "language": "python",
   "name": "python3"
  },
  "language_info": {
   "codemirror_mode": {
    "name": "ipython",
    "version": 3
   },
   "file_extension": ".py",
   "mimetype": "text/x-python",
   "name": "python",
   "nbconvert_exporter": "python",
   "pygments_lexer": "ipython3",
   "version": "3.9.7"
  }
 },
 "nbformat": 4,
 "nbformat_minor": 5
}
