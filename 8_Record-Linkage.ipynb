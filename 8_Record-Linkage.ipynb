{
 "cells": [
  {
   "cell_type": "markdown",
   "id": "36805ee7",
   "metadata": {},
   "source": [
    "- Insertion\n",
    "- Deletion\n",
    "- Substitution\n",
    "- Transposition\n"
   ]
  },
  {
   "cell_type": "markdown",
   "id": "f243abf9",
   "metadata": {},
   "source": [
    "##### edit distance"
   ]
  },
  {
   "cell_type": "markdown",
   "id": "25a2d453",
   "metadata": {},
   "source": [
    "- the least edit distance, the closer two strings are"
   ]
  },
  {
   "cell_type": "markdown",
   "id": "d9dd6360",
   "metadata": {},
   "source": [
    "Possible packages:\n",
    "- nltk\n",
    "- fuzzywuzzy\n",
    "- textdistance"
   ]
  },
  {
   "cell_type": "code",
   "execution_count": null,
   "id": "9006e7aa",
   "metadata": {},
   "outputs": [],
   "source": [
    "import fuzzywuzzy import fuzz\n",
    "\n",
    "#comparing two strings\n",
    "fuzz.WRation('string1', 'string2')"
   ]
  },
  {
   "cell_type": "markdown",
   "id": "d4eb9249",
   "metadata": {},
   "source": [
    "The result is a number between 0 to 100 (100 being the closest in similarity, identical); this is different than the edit distance."
   ]
  },
  {
   "cell_type": "code",
   "execution_count": null,
   "id": "6fdd4c12",
   "metadata": {},
   "outputs": [],
   "source": [
    "#example\n",
    "# Import process from fuzzywuzzy\n",
    "from fuzzywuzzy import process\n",
    "\n",
    "# Store the unique values of cuisine_type in unique_types\n",
    "unique_types = restaurants['cuisine_type'].unique()\n",
    "\n",
    "# Calculate similarity of 'asian' to all values of unique_types\n",
    "print(process.extract('asian', unique_types, limit = len(unique_types)))\n",
    "\n",
    "# Calculate similarity of 'american' to all values of unique_types\n",
    "print(process.extract('american', unique_types, limit = len(unique_types)))\n",
    "\n",
    "# Calculate similarity of 'italian' to all values of unique_types\n",
    "print(process.extract('italian', unique_types, limit = len(unique_types)))"
   ]
  }
 ],
 "metadata": {
  "kernelspec": {
   "display_name": "Python 3 (ipykernel)",
   "language": "python",
   "name": "python3"
  },
  "language_info": {
   "codemirror_mode": {
    "name": "ipython",
    "version": 3
   },
   "file_extension": ".py",
   "mimetype": "text/x-python",
   "name": "python",
   "nbconvert_exporter": "python",
   "pygments_lexer": "ipython3",
   "version": "3.9.7"
  }
 },
 "nbformat": 4,
 "nbformat_minor": 5
}
