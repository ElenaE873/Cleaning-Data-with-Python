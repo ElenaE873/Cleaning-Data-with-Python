{
 "cells": [
  {
   "cell_type": "code",
   "execution_count": null,
   "id": "db5d174a",
   "metadata": {},
   "outputs": [],
   "source": [
    "#replacing one text identifier1 with another identifier2 \n",
    "#example could be, replacing \"+\" with \"00\", or a \"-\"(dash) with an \"\"(empty string)\n",
    "\n",
    "df['column'] = df['column'].str.replace(\"identifier1\", 'identifier2')"
   ]
  },
  {
   "cell_type": "code",
   "execution_count": null,
   "id": "dc2beee4",
   "metadata": {},
   "outputs": [],
   "source": [
    "#replacing with a condition\n",
    "\n",
    "len_of_column_items = df['column'].str.len()\n",
    "\n",
    "#replacing where string length is less than 10 characters with NaN\n",
    "df.loc[len_of_column_items < 10, 'column'] = np.nan\n",
    "\n",
    "#check for the change\n",
    "assert len_of_column_items >= 10\n",
    "\n",
    "#or if it has changed the identifiers (2 types) that may have been replaced\n",
    "#bar pipe here is an \"or\" statement\n",
    "assert df['column'].str.contains(\"identifier1|identifier2\").any() == False"
   ]
  },
  {
   "cell_type": "markdown",
   "id": "889ee80d",
   "metadata": {},
   "source": [
    "##### replacing strings with nothing"
   ]
  },
  {
   "cell_type": "code",
   "execution_count": null,
   "id": "1af1c461",
   "metadata": {},
   "outputs": [],
   "source": [
    "df['column'] = df['column'].str.replace('string', '')"
   ]
  },
  {
   "cell_type": "code",
   "execution_count": null,
   "id": "83aed9ae",
   "metadata": {},
   "outputs": [],
   "source": [
    "#example\n",
    "\n",
    "# Store length of each row in a new df, df_len\n",
    "df_len = df['column'].str.len()\n",
    "\n",
    "# Find rows in df where df_len > 40\n",
    "column_len_40 = df[df_len > 40]\n",
    "\n",
    "# Assert minimum column length values is > 40\n",
    "assert column_len_40['column'].str.len().min() > 40\n",
    "\n",
    "# Print new column\n",
    "print(column_len_40['column'])"
   ]
  }
 ],
 "metadata": {
  "kernelspec": {
   "display_name": "Python 3 (ipykernel)",
   "language": "python",
   "name": "python3"
  },
  "language_info": {
   "codemirror_mode": {
    "name": "ipython",
    "version": 3
   },
   "file_extension": ".py",
   "mimetype": "text/x-python",
   "name": "python",
   "nbconvert_exporter": "python",
   "pygments_lexer": "ipython3",
   "version": "3.9.7"
  }
 },
 "nbformat": 4,
 "nbformat_minor": 5
}
